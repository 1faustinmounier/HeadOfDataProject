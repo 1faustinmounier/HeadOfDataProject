{
 "cells": [
  {
   "cell_type": "markdown",
   "metadata": {},
   "source": [
    "# Allocate the \"true\" city with Levenhstein distance"
   ]
  },
  {
   "cell_type": "markdown",
   "metadata": {},
   "source": [
    "### Reading the data from CSV files"
   ]
  },
  {
   "cell_type": "code",
   "execution_count": 5,
   "metadata": {},
   "outputs": [
    {
     "name": "stdout",
     "output_type": "stream",
     "text": [
      "                  city\n",
      "0               cleron\n",
      "1            aveillans\n",
      "2  paray-vieille-poste\n",
      "3                issac\n",
      "4                rians\n",
      "                    city\n",
      "0  abergement clemenciat\n",
      "1    abergement de varey\n",
      "2      amberieu en bugey\n",
      "3    amberieux en dombes\n",
      "4                ambleon\n"
     ]
    }
   ],
   "source": [
    "import pandas as pd\n",
    "\n",
    "# Load the datasets\n",
    "raw_cities_df = pd.read_csv('raw_cities.csv')\n",
    "normalized_cities_df = pd.read_csv('normalized_cities - normalized_cities.csv')\n",
    "\n",
    "# Ensure all city names are strings and handle NaN values by filling them with an empty string\n",
    "raw_cities_df['city'] = raw_cities_df['city'].astype(str).fillna('')\n",
    "normalized_cities_df['city'] = normalized_cities_df['city'].astype(str).fillna('')\n",
    "\n",
    "# Display the first few rows of each dataframe\n",
    "print(raw_cities_df.head())\n",
    "print(normalized_cities_df.head())"
   ]
  },
  {
   "cell_type": "markdown",
   "metadata": {},
   "source": [
    "### Compute the Levenshtein distance"
   ]
  },
  {
   "cell_type": "code",
   "execution_count": 6,
   "metadata": {},
   "outputs": [
    {
     "name": "stdout",
     "output_type": "stream",
     "text": [
      "Requirement already satisfied: Levenshtein in /Library/Frameworks/Python.framework/Versions/3.11/lib/python3.11/site-packages (0.25.1)\n",
      "Requirement already satisfied: rapidfuzz<4.0.0,>=3.8.0 in /Library/Frameworks/Python.framework/Versions/3.11/lib/python3.11/site-packages (from Levenshtein) (3.9.0)\n",
      "\n",
      "\u001b[1m[\u001b[0m\u001b[34;49mnotice\u001b[0m\u001b[1;39;49m]\u001b[0m\u001b[39;49m A new release of pip is available: \u001b[0m\u001b[31;49m23.2.1\u001b[0m\u001b[39;49m -> \u001b[0m\u001b[32;49m24.0\u001b[0m\n",
      "\u001b[1m[\u001b[0m\u001b[34;49mnotice\u001b[0m\u001b[1;39;49m]\u001b[0m\u001b[39;49m To update, run: \u001b[0m\u001b[32;49mpip3 install --upgrade pip\u001b[0m\n"
     ]
    }
   ],
   "source": [
    "!pip3 install Levenshtein"
   ]
  },
  {
   "cell_type": "code",
   "execution_count": 9,
   "metadata": {},
   "outputs": [
    {
     "name": "stdout",
     "output_type": "stream",
     "text": [
      "              raw_city closest_normalized_city\n",
      "0               cleron                  cleron\n",
      "1            aveillans                voillans\n",
      "2  paray-vieille-poste     paray vieille poste\n",
      "3                issac                   issac\n",
      "4                rians                   rians\n",
      "                                       raw_city closest_normalized_city\n",
      "4160                                     hodoul                   hadol\n",
      "9252                           epinay sur-seine        epinay sur seine\n",
      "6570                                    vertain                 vertain\n",
      "2026                        st michel de la roe  saint michel de la roë\n",
      "7399                                 pernes n/a                  pernes\n",
      "2963                          tresques tresques            questrecques\n",
      "3878                       boutier-saint-trojan   boutiers saint trojan\n",
      "772                                 peyregrosse                peyrusse\n",
      "9949                          le kremlin-bictre         kremlin bicêtre\n",
      "1739                                   voinsles                voinsles\n",
      "4787                saint maur des fossa c s fr   saint maur des fosses\n",
      "4092                           clichy undefined         louchy montfand\n",
      "8343                            mailly raineval         mailly raineval\n",
      "9487                        bourg-lastic france            bourg lastic\n",
      "7287  aigrefeuille-d'aunis aigrefeuille-d'aunis                    None\n",
      "8438              argentan les-salles-du-gardon                    None\n",
      "8911                          lezennes lezennes       pezenes les mines\n",
      "1483                                 ch^atillon               chatillon\n",
      "4749                               la perouille               perouille\n",
      "4919                                 chalezeule              chalezeule\n"
     ]
    }
   ],
   "source": [
    "import Levenshtein\n",
    "\n",
    "def find_closest_city(raw_city, normalized_cities, threshold=10):\n",
    "    min_distance = float('inf')\n",
    "    closest_city = None\n",
    "    \n",
    "    for norm_city in normalized_cities:\n",
    "        distance = Levenshtein.distance(raw_city, norm_city)\n",
    "        if distance < min_distance:\n",
    "            min_distance = distance\n",
    "            closest_city = norm_city\n",
    "    \n",
    "    if min_distance <= threshold:\n",
    "        return closest_city\n",
    "    else:\n",
    "        return None\n",
    "\n",
    "# Apply the function to find closest city for each raw city with a given threshold\n",
    "threshold = 10  # Set the threshold here\n",
    "raw_cities = raw_cities_df['city'].tolist()\n",
    "normalized_cities = normalized_cities_df['city'].tolist()\n",
    "\n",
    "results = []\n",
    "for raw_city in raw_cities:\n",
    "    closest_city = find_closest_city(raw_city, normalized_cities, threshold)\n",
    "    results.append((raw_city, closest_city))\n",
    "\n",
    "# Convert results to DataFrame\n",
    "results_df = pd.DataFrame(results, columns=['raw_city', 'closest_normalized_city'])\n",
    "print(results_df.head())\n",
    "\n",
    "# Evaluate the performance by inspecting a sample of results\n",
    "sample_size = 20\n",
    "sample_results = results_df.sample(sample_size)\n",
    "print(sample_results)\n"
   ]
  },
  {
   "cell_type": "markdown",
   "metadata": {},
   "source": [
    "# Does this method works"
   ]
  },
  {
   "cell_type": "markdown",
   "metadata": {},
   "source": [
    "##### Based on the results, we can make several observations about the effectiveness of the Levenshtein distance method for matching cities from the 'raw_cities' dataset to the 'normalized_cities' dataset.\n",
    "\n",
    "##### (1)Successful Matches: The method successfully matched some cities with exact or very similar names (e.g., \"cleron\" matched with \"cleron\", \"issac\" matched with \"issac\").\n",
    "\n",
    "##### (2)Partial Matches: There are cases where the method found a reasonably close match, but it might not be the best possible match. For example, \"aveillans\" matched with \"voillans\". While \"voillans\" is somewhat close, it is not the exact match.\n",
    "\n",
    "##### (3)Exact and Close Matches: For some cities with slight differences in formatting or spelling, the method was able to correctly identify the matches (e.g.,bourg-lastic france          bourg lastic)\n",
    "\n",
    "##### (4)Incorrect Matches: There are instances where the method incorrectly matched cities (e.g., \"epinay sur-seine\" matched with \"epinay sur seine\" but \"hodoul\" matched with \"hadol\").\n",
    "\n",
    "##### (5) Unmatched Entries: In some cases, the method returned None, indicating that no sufficiently close match was found (e.g., \"aigrefeuille-d'aunis aigrefeuille-d'aunis\" matched with None).\n",
    "\n",
    "##### The Levenshtein distance method works reasonably well for matching cities with minor variations in spelling, formatting, or typographical errors. \n"
   ]
  },
  {
   "cell_type": "markdown",
   "metadata": {},
   "source": [
    "# Could you do a better work with addition resources"
   ]
  },
  {
   "cell_type": "markdown",
   "metadata": {},
   "source": [
    "##### Yes! Of course!\n",
    "\n",
    "##### Adjust Threshold: Experiment with different threshold values to balance between missing matches and incorrect matches.\n",
    "\n",
    "##### Geographic Data: Utilize external geographic databases or APIs to cross-reference and validate city names.\n",
    "\n",
    "##### Machine Learning: Explore machine learning models trained on labeled datasets to predict the correct city matches based on various features of the city names.\n"
   ]
  }
 ],
 "metadata": {
  "kernelspec": {
   "display_name": "Python 3",
   "language": "python",
   "name": "python3"
  },
  "language_info": {
   "codemirror_mode": {
    "name": "ipython",
    "version": 3
   },
   "file_extension": ".py",
   "mimetype": "text/x-python",
   "name": "python",
   "nbconvert_exporter": "python",
   "pygments_lexer": "ipython3",
   "version": "3.11.5"
  }
 },
 "nbformat": 4,
 "nbformat_minor": 2
}
